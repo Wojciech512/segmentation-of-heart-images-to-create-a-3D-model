{
  "cells": [
    {
      "attachments": {},
      "cell_type": "markdown",
      "metadata": {
        "id": "HEaSMkNtfA-h"
      },
      "source": [
        "# Wyświetlanie zestawienia zdjęć"
      ]
    },
    {
      "cell_type": "code",
      "execution_count": 2,
      "metadata": {
        "id": "dKhRqE2YDjan"
      },
      "outputs": [],
      "source": [
        "import os\n",
        "import matplotlib.pyplot as plt\n",
        "\n",
        "#metoda do wyświetlania zestawienia z zawartości folderu\n",
        "def display_images(folder_path, num_images):\n",
        "  \n",
        "    # Pobierz listę plików w folderze\n",
        "    file_list = os.listdir(folder_path)\n",
        "    file_list.sort()\n",
        "\n",
        "    # Wybierz tylko pliki z rozszerzeniem .jpg\n",
        "    image_files = [file for file in file_list if file.endswith('.jpg')]\n",
        "\n",
        "    # Utwórz listę zdjęć i nazw plików\n",
        "    images = []\n",
        "    image_names = []\n",
        "\n",
        "    # Wczytaj każde zdjęcie i dodaj je do listy wraz z jego nazwą\n",
        "    for i in range(num_images):\n",
        "        image_path = os.path.join(folder_path, image_files[i])\n",
        "        image = plt.imread(image_path)\n",
        "        images.append(image)\n",
        "        image_names.append(image_files[i])\n",
        "\n",
        "    # Utwórz zestawienie zdjęć\n",
        "    fig, axs = plt.subplots(20, 20, figsize=(80, 80))\n",
        "    axs = axs.ravel()\n",
        "\n",
        "    for i in range(num_images):\n",
        "        axs[i].imshow(images[i], cmap='gray')\n",
        "        axs[i].set_title(image_names[i], fontsize=12)\n",
        "        axs[i].axis('off')\n",
        "\n",
        "    plt.subplots_adjust(wspace=0, hspace=0.4)\n",
        "    plt.show()"
      ]
    },
    {
      "cell_type": "code",
      "execution_count": null,
      "metadata": {
        "colab": {
          "background_save": true,
          "base_uri": "https://localhost:8080/",
          "height": 1000
        },
        "id": "9tsRfxkopWRh",
        "outputId": "ddaca48f-5fd4-4c1b-96c0-74af3285ee70"
      },
      "outputs": [],
      "source": [
        "#użycie funkcji display_images (ścieżka, ilość zdjęć w folderze)\n",
        "display_images('C:/Users/wwyle/OneDrive/Pulpit/equalization_jpg',400)"
      ]
    },
    {
      "attachments": {},
      "cell_type": "markdown",
      "metadata": {},
      "source": [
        "# Segmentacja"
      ]
    },
    {
      "cell_type": "code",
      "execution_count": null,
      "metadata": {
        "colab": {
          "base_uri": "https://localhost:8080/"
        },
        "id": "xfLa1x_5tTp2",
        "outputId": "c5301f58-a7b1-4a57-c1bd-00da8f25feab"
      },
      "outputs": [],
      "source": [
        "import cv2\n",
        "import numpy as np\n",
        "import matplotlib.pyplot as plt\n",
        "import os\n",
        "import sys\n",
        "import numpy as np\n",
        "import cv2\n",
        "import matplotlib.pyplot as plt\n",
        "import math\n",
        "from pylab import*\n",
        "from skimage.measure import points_in_poly\n",
        "from skimage.color import rgb2gray\n",
        "from skimage import data\n",
        "from skimage.filters import gaussian\n",
        "from skimage.segmentation import active_contour\n",
        "from skimage.measure import points_in_poly\n",
        "\n",
        "#folder z jpg\n",
        "input_folder = 'C:/Users/wwyle/OneDrive/Pulpit/aom projekt/equalization_jpg'\n",
        "input_for_lvlset='C:/Users/wwyle/OneDrive/Pulpit/aom projekt/dicom_to_jpg'\n",
        "\n",
        "jpg_folder_names = os.listdir(input_folder)\n",
        "jpg_folder_names.sort()\n",
        "\n",
        "jpg_filepaths_list = []\n",
        "jpg_list_dilation = []\n",
        "\n",
        "# Ustaw promień dysku\n",
        "radius = 1\n",
        "\n",
        "# Utwórz macierz w kształcie dysku\n",
        "kernel = np.zeros((radius*2+1, radius*2+1))\n",
        "for i in range(radius*2+1):\n",
        "  for j in range(radius*2+1):\n",
        "    if ((i - radius)**2 + (j - radius)**2) <= radius**2:\n",
        "      kernel[i, j] = 1\n",
        "\n",
        "kern = np.uint8(kernel)\n",
        "\n",
        "#do zrobienia (zmienic kernel dla dylacji: dysk itp)\n",
        "kernel_d = np.ones((3,3), np.uint8)\n",
        "\n",
        "for name in jpg_folder_names: \n",
        "  jpg_filepath_input = os.path.join(input_folder, name)\n",
        "  jpg_filepath_for_lvlset = os.path.join(input_for_lvlset, name)\n",
        "\n",
        "  #dołączanie do ścieżki\n",
        "  # jpg_filepaths_list.append(jpg_filepath_input) \n",
        "\n",
        "  #wczytujemy po jednym jpg\n",
        "  img = cv2.imread(jpg_filepath_input, 0)\n",
        "\n",
        "\n",
        "  #utworzenie 256 punktów równomiernie rozmieszczonych na okręgu o promieniu 70 i środku w punkcie (130, 130)\n",
        "  up_down_circle_center = 150\n",
        "  right_left_circle_center = 140\n",
        "\n",
        "  flattening_circle = 70\n",
        "  slimming_circle = 75\n",
        "\n",
        "  s = np.linspace(0, 2*np.pi, 256)\n",
        "  r = up_down_circle_center + flattening_circle*np.sin(s)\n",
        "  c = right_left_circle_center + slimming_circle*np.cos(s)\n",
        "  init = np.array([r, c]).T\n",
        "\n",
        "  previous_snake = None\n",
        "  \n",
        "  #dostosować aktywny kontur tak aby okalał obszar zainteresowania (do zrobienia sprawdzić alpha beta gamma możer należy wywalić gausowski filtr) \n",
        "  if previous_snake is None:\n",
        "    snake = active_contour(gaussian(img, 3, preserve_range=False), init, alpha=0.002, beta=0.001, w_line=-0.05, w_edge=-0.25, gamma=0.001, max_px_move=1, boundary_condition='periodic')\n",
        "    previous_snake = snake\n",
        "  else:\n",
        "    snake = active_contour(gaussian(img, 3, preserve_range=False), previous_snake, alpha=0.002, beta=0.001, w_line=-0.05, w_edge=-0.25, gamma=0.001, max_px_move=1, boundary_condition='periodic')\n",
        "    previous_snake = snake\n",
        "  #użycie algorytmu Active Contour na przetworzonym filtracją Gaussa obrazie w celu znalezienia konturu obiektu\n",
        "  snake = active_contour(gaussian(img, 2, preserve_range=False), init, alpha=0.002, beta=0.001, w_line=-0.05, w_edge=-0.25, gamma=0.001, max_px_move=1, boundary_condition='periodic')\n",
        "\n",
        "  # stworzenie siatki pikseli o rozmiarze obrazu\n",
        "  rows, cols = img.shape[:2]\n",
        "  xx, yy = np.meshgrid(np.arange(cols), np.arange(rows))\n",
        "\n",
        "  # wykorzystanie funkcji points_in_poly() do uzyskania maski pikseli wewnątrz konturu\n",
        "  mask_from_snake = points_in_poly(np.column_stack((yy.ravel(), xx.ravel())), snake).reshape(rows, cols)\n",
        "  #=================================================================================================================================================================\n",
        "\n",
        "  img_for_lvlset= cv2.imread(jpg_filepath_for_lvlset, 0)\n",
        "  img=np.array(img_for_lvlset,dtype=np.float64) \n",
        "\n",
        "  #celowanie kwadratem\n",
        "  IniLSF = np.ones((img.shape[0],img.shape[1]),img.dtype) \n",
        "  IniLSF[250:300,250:300]= -1\n",
        "  IniLSF=-IniLSF \n",
        "\n",
        "  img_for_lvlset = cv2.cvtColor(img_for_lvlset,cv2.COLOR_BGR2RGB) \n",
        "  plt.figure(1),plt.imshow(img_for_lvlset),plt.xticks([]), plt.yticks([])   # to hide tick values on X and Y axis\n",
        "  plt.contour(IniLSF,[0],color = 'b',linewidth=2)  \n",
        "  plt.draw(),plt.show(block=False) \n",
        "\n",
        "  def mat_math (intput,str):\n",
        "      output=intput \n",
        "      for i in range(img.shape[0]):\n",
        "          for j in range(img.shape[1]):\n",
        "              if str==\"atan\":\n",
        "                  output[i,j] = math.atan(intput[i,j]) \n",
        "              if str==\"sqrt\":\n",
        "                  output[i,j] = math.sqrt(intput[i,j]) \n",
        "      return output \n",
        "\n",
        "  def CV (LSF, img, mu, nu, epison,step):\n",
        "\n",
        "      Drc = (epison / math.pi) / (epison*epison+ LSF*LSF)\n",
        "      Hea = 0.5*(1 + (2 / math.pi)*mat_math(LSF/epison,\"atan\")) \n",
        "      Iy, Ix = np.gradient(LSF) \n",
        "      s = mat_math(Ix*Ix+Iy*Iy,\"sqrt\") \n",
        "      Nx = Ix / (s+0.000001) \n",
        "      Ny = Iy / (s+0.000001) \n",
        "      Mxx,Nxx =np.gradient(Nx) \n",
        "      Nyy,Myy =np.gradient(Ny) \n",
        "      cur = Nxx + Nyy \n",
        "      Length = nu*Drc*cur \n",
        "\n",
        "      Lap = cv2.Laplacian(LSF,-1) \n",
        "      Penalty = mu*(Lap - cur) \n",
        "\n",
        "      s1=Hea*img \n",
        "      s2=(1-Hea)*img \n",
        "      s3=1-Hea \n",
        "      C1 = s1.sum()/ Hea.sum() \n",
        "      C2 = s2.sum()/ s3.sum() \n",
        "      CVterm = Drc*(-1 * (img - C1)*(img - C1) + 1 * (img - C2)*(img - C2)) \n",
        "\n",
        "      LSF = LSF + step*(Length + Penalty + CVterm) \n",
        "      #plt.imshow(s, cmap ='gray'),plt.show() \n",
        "      return LSF \n",
        "\n",
        "  #parametry (z jaką siłą się rozchodzi)\n",
        "  mu = 1  \n",
        "  nu = 0.003 * 255 * 255 \n",
        "  num = 10 # liczba iteracji czyli jak jest dokładny \n",
        "  epison = 1 \n",
        "  step = 0.1 # nie do zmiany\n",
        "  LSF=IniLSF \n",
        "\n",
        "  for i in range(0,num):\n",
        "      LSF = CV(LSF, img, mu, nu, epison,step)\n",
        "      masked_LSF = np.where(mask_from_snake, LSF, 0)\n",
        "      if i % 1 == 0:\n",
        "        plt.imshow(img_for_lvlset),plt.xticks([]), plt.yticks([])  \n",
        "        plt.contour(masked_LSF,[0],colors='r',linewidth=2)\n",
        "        plt.draw()\n",
        "        plt.savefig(f'C:/Users/wwyle/OneDrive/Pulpit/aom projekt/segmentation_results/{name}')\n",
        "        plt.show(block=False),plt.pause(0.01)\n",
        "        "
      ]
    },
    {
      "cell_type": "code",
      "execution_count": 1,
      "metadata": {},
      "outputs": [
        {
          "ename": "NameError",
          "evalue": "name 'display_images' is not defined",
          "output_type": "error",
          "traceback": [
            "\u001b[1;31m---------------------------------------------------------------------------\u001b[0m",
            "\u001b[1;31mNameError\u001b[0m                                 Traceback (most recent call last)",
            "Cell \u001b[1;32mIn[1], line 1\u001b[0m\n\u001b[1;32m----> 1\u001b[0m display_images(\u001b[39m'\u001b[39m\u001b[39mC:/Users/wwyle/OneDrive/Pulpit/segmentation_results\u001b[39m\u001b[39m'\u001b[39m, \u001b[39m355\u001b[39m)\n",
            "\u001b[1;31mNameError\u001b[0m: name 'display_images' is not defined"
          ]
        }
      ],
      "source": [
        "display_images('C:/Users/wwyle/OneDrive/Pulpit/segmentation_results', 355)"
      ]
    },
    {
      "cell_type": "code",
      "execution_count": null,
      "metadata": {
        "colab": {
          "background_save": true,
          "base_uri": "https://localhost:8080/",
          "height": 1000
        },
        "id": "2hyJr8AOz_wg",
        "outputId": "66427fd0-0093-4d4e-cb47-2c4544eb2890"
      },
      "outputs": [],
      "source": [
        "display_images('C:/Users/wwyle/OneDrive/Pulpit/segmented_images', 400)"
      ]
    },
    {
      "cell_type": "code",
      "execution_count": null,
      "metadata": {
        "colab": {
          "base_uri": "https://localhost:8080/",
          "height": 1000
        },
        "id": "Ca1T5JGY255h",
        "outputId": "ee243400-7ee3-49c5-970b-ec057bbebdf8"
      },
      "outputs": [],
      "source": [
        "display_images('C:/Users/wwyle/OneDrive/Pulpit/filled_images', 400)"
      ]
    },
    {
      "attachments": {},
      "cell_type": "markdown",
      "metadata": {},
      "source": []
    }
  ],
  "metadata": {
    "colab": {
      "collapsed_sections": [
        "T2z5to8JcRKG",
        "hwJrusu1LoKr",
        "wttaO2ewcleA",
        "M5vDXv8YfuTP",
        "BNuxbALQc6_b",
        "pGc9OUX9PJUH",
        "R7oudxrgdIZQ",
        "swtPuWiC3BOd",
        "WbbJaUVi-mrh",
        "PENW2-7D37Q7"
      ],
      "provenance": []
    },
    "kernelspec": {
      "display_name": "Python 3",
      "name": "python3"
    },
    "language_info": {
      "codemirror_mode": {
        "name": "ipython",
        "version": 3
      },
      "file_extension": ".py",
      "mimetype": "text/x-python",
      "name": "python",
      "nbconvert_exporter": "python",
      "pygments_lexer": "ipython3",
      "version": "3.10.8"
    }
  },
  "nbformat": 4,
  "nbformat_minor": 0
}
